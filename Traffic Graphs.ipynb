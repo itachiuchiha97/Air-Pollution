{
 "cells": [
  {
   "cell_type": "code",
   "execution_count": 28,
   "metadata": {},
   "outputs": [],
   "source": [
    "import matplotlib.pyplot as plt\n",
    "import numpy as np\n",
    "import pandas as pd\n",
    "%matplotlib inline\n",
    "import mpld3\n",
    "mpld3.enable_notebook()"
   ]
  },
  {
   "cell_type": "code",
   "execution_count": 29,
   "metadata": {},
   "outputs": [
    {
     "data": {
      "text/html": [
       "<div>\n",
       "<style scoped>\n",
       "    .dataframe tbody tr th:only-of-type {\n",
       "        vertical-align: middle;\n",
       "    }\n",
       "\n",
       "    .dataframe tbody tr th {\n",
       "        vertical-align: top;\n",
       "    }\n",
       "\n",
       "    .dataframe thead th {\n",
       "        text-align: right;\n",
       "    }\n",
       "</style>\n",
       "<table border=\"1\" class=\"dataframe\">\n",
       "  <thead>\n",
       "    <tr style=\"text-align: right;\">\n",
       "      <th></th>\n",
       "      <th>timestamp</th>\n",
       "      <th>Free Flow Time(seconds)</th>\n",
       "      <th>Free Flow Speed(KMPH)</th>\n",
       "      <th>Current Time(seconds)</th>\n",
       "      <th>Current Speed(KMPH)</th>\n",
       "      <th>newtimestamp</th>\n",
       "    </tr>\n",
       "  </thead>\n",
       "  <tbody>\n",
       "    <tr>\n",
       "      <th>2</th>\n",
       "      <td>NaN</td>\n",
       "      <td>NaN</td>\n",
       "      <td>NaN</td>\n",
       "      <td>NaN</td>\n",
       "      <td>NaN</td>\n",
       "      <td>05/07/19 0:10</td>\n",
       "    </tr>\n",
       "    <tr>\n",
       "      <th>3</th>\n",
       "      <td>NaN</td>\n",
       "      <td>NaN</td>\n",
       "      <td>NaN</td>\n",
       "      <td>NaN</td>\n",
       "      <td>NaN</td>\n",
       "      <td>05/07/19 0:15</td>\n",
       "    </tr>\n",
       "    <tr>\n",
       "      <th>4</th>\n",
       "      <td>NaN</td>\n",
       "      <td>NaN</td>\n",
       "      <td>NaN</td>\n",
       "      <td>NaN</td>\n",
       "      <td>NaN</td>\n",
       "      <td>05/07/19 0:20</td>\n",
       "    </tr>\n",
       "    <tr>\n",
       "      <th>5</th>\n",
       "      <td>NaN</td>\n",
       "      <td>NaN</td>\n",
       "      <td>NaN</td>\n",
       "      <td>NaN</td>\n",
       "      <td>NaN</td>\n",
       "      <td>05/07/19 0:25</td>\n",
       "    </tr>\n",
       "    <tr>\n",
       "      <th>6</th>\n",
       "      <td>NaN</td>\n",
       "      <td>NaN</td>\n",
       "      <td>NaN</td>\n",
       "      <td>NaN</td>\n",
       "      <td>NaN</td>\n",
       "      <td>05/07/19 0:30</td>\n",
       "    </tr>\n",
       "  </tbody>\n",
       "</table>\n",
       "</div>"
      ],
      "text/plain": [
       "  timestamp  Free Flow Time(seconds)  Free Flow Speed(KMPH)  \\\n",
       "2       NaN                      NaN                    NaN   \n",
       "3       NaN                      NaN                    NaN   \n",
       "4       NaN                      NaN                    NaN   \n",
       "5       NaN                      NaN                    NaN   \n",
       "6       NaN                      NaN                    NaN   \n",
       "\n",
       "   Current Time(seconds)  Current Speed(KMPH)   newtimestamp  \n",
       "2                    NaN                  NaN  05/07/19 0:10  \n",
       "3                    NaN                  NaN  05/07/19 0:15  \n",
       "4                    NaN                  NaN  05/07/19 0:20  \n",
       "5                    NaN                  NaN  05/07/19 0:25  \n",
       "6                    NaN                  NaN  05/07/19 0:30  "
      ]
     },
     "execution_count": 29,
     "metadata": {},
     "output_type": "execute_result"
    }
   ],
   "source": [
    "traffic_data = pd.read_csv('joined.csv').iloc[2:289]\n",
    "# pollution_data = pd.read_excel('pb_half.xlsx').iloc[3793:3999]\n",
    "traffic_data.head()\n",
    "# pollution_data.head()"
   ]
  },
  {
   "cell_type": "code",
   "execution_count": 30,
   "metadata": {},
   "outputs": [],
   "source": [
    "removingNaN = traffic_data.fillna(0)\n",
    "# removingNone = pollution_data.replace('None', -200, regex= True)"
   ]
  },
  {
   "cell_type": "code",
   "execution_count": 31,
   "metadata": {},
   "outputs": [],
   "source": [
    "traffic_currentTime = removingNaN['Current Time(seconds)']\n",
    "traffic_timestamp = removingNaN['newtimestamp']\n",
    "# pollution_NOx = removingNone['NOx']"
   ]
  },
  {
   "cell_type": "code",
   "execution_count": 32,
   "metadata": {},
   "outputs": [
    {
     "name": "stdout",
     "output_type": "stream",
     "text": [
      "2        0.0\n",
      "3        0.0\n",
      "4        0.0\n",
      "5        0.0\n",
      "6        0.0\n",
      "7        0.0\n",
      "8        0.0\n",
      "9        0.0\n",
      "10       0.0\n",
      "11       0.0\n",
      "12       0.0\n",
      "13       0.0\n",
      "14       0.0\n",
      "15       0.0\n",
      "16       0.0\n",
      "17       0.0\n",
      "18       0.0\n",
      "19       0.0\n",
      "20       0.0\n",
      "21       0.0\n",
      "22       0.0\n",
      "23       0.0\n",
      "24       0.0\n",
      "25       0.0\n",
      "26       0.0\n",
      "27       0.0\n",
      "28       0.0\n",
      "29       0.0\n",
      "30       0.0\n",
      "31       0.0\n",
      "       ...  \n",
      "259     56.0\n",
      "260     55.0\n",
      "261     68.0\n",
      "262     55.0\n",
      "263     41.0\n",
      "264     59.0\n",
      "265     55.0\n",
      "266     41.0\n",
      "267     41.0\n",
      "268     42.0\n",
      "269     42.0\n",
      "270     42.0\n",
      "271     42.0\n",
      "272     42.0\n",
      "273     42.0\n",
      "274     42.0\n",
      "275     42.0\n",
      "276     42.0\n",
      "277     42.0\n",
      "278     53.0\n",
      "279     61.0\n",
      "280     42.0\n",
      "281     42.0\n",
      "282     42.0\n",
      "283     91.0\n",
      "284    127.0\n",
      "285    110.0\n",
      "286    103.0\n",
      "287    127.0\n",
      "288    110.0\n",
      "Name: Current Time(seconds), Length: 287, dtype: float64\n"
     ]
    }
   ],
   "source": [
    "print(traffic_currentTime)\n",
    "# print(removingNone)"
   ]
  },
  {
   "cell_type": "code",
   "execution_count": 33,
   "metadata": {},
   "outputs": [
    {
     "data": {
      "text/plain": [
       "2     2019-05-07 00:10:00\n",
       "3     2019-05-07 00:15:00\n",
       "4     2019-05-07 00:20:00\n",
       "5     2019-05-07 00:25:00\n",
       "6     2019-05-07 00:30:00\n",
       "7     2019-05-07 00:35:00\n",
       "8     2019-05-07 00:40:00\n",
       "9     2019-05-07 00:45:00\n",
       "10    2019-05-07 00:50:00\n",
       "11    2019-05-07 00:55:00\n",
       "12    2019-05-07 01:00:00\n",
       "13    2019-05-07 01:05:00\n",
       "14    2019-05-07 01:10:00\n",
       "15    2019-05-07 01:15:00\n",
       "16    2019-05-07 01:20:00\n",
       "17    2019-05-07 01:25:00\n",
       "18    2019-05-07 01:30:00\n",
       "19    2019-05-07 01:35:00\n",
       "20    2019-05-07 01:40:00\n",
       "21    2019-05-07 01:45:00\n",
       "22    2019-05-07 01:50:00\n",
       "23    2019-05-07 01:55:00\n",
       "24    2019-05-07 02:00:00\n",
       "25    2019-05-07 02:05:00\n",
       "26    2019-05-07 02:10:00\n",
       "27    2019-05-07 02:15:00\n",
       "28    2019-05-07 02:20:00\n",
       "29    2019-05-07 02:25:00\n",
       "30    2019-05-07 02:30:00\n",
       "31    2019-05-07 02:35:00\n",
       "              ...        \n",
       "259   2019-05-07 21:35:00\n",
       "260   2019-05-07 21:40:00\n",
       "261   2019-05-07 21:45:00\n",
       "262   2019-05-07 21:50:00\n",
       "263   2019-05-07 21:55:00\n",
       "264   2019-05-07 22:00:00\n",
       "265   2019-05-07 22:05:00\n",
       "266   2019-05-07 22:10:00\n",
       "267   2019-05-07 22:15:00\n",
       "268   2019-05-07 22:20:00\n",
       "269   2019-05-07 22:25:00\n",
       "270   2019-05-07 22:30:00\n",
       "271   2019-05-07 22:35:00\n",
       "272   2019-05-07 22:40:00\n",
       "273   2019-05-07 22:45:00\n",
       "274   2019-05-07 22:50:00\n",
       "275   2019-05-07 22:55:00\n",
       "276   2019-05-07 23:00:00\n",
       "277   2019-05-07 23:05:00\n",
       "278   2019-05-07 23:10:00\n",
       "279   2019-05-07 23:15:00\n",
       "280   2019-05-07 23:20:00\n",
       "281   2019-05-07 23:25:00\n",
       "282   2019-05-07 23:30:00\n",
       "283   2019-05-07 23:35:00\n",
       "284   2019-05-07 23:40:00\n",
       "285   2019-05-07 23:45:00\n",
       "286   2019-05-07 23:50:00\n",
       "287   2019-05-07 23:55:00\n",
       "288   2019-06-07 00:00:00\n",
       "Name: newtimestamp, Length: 287, dtype: datetime64[ns]"
      ]
     },
     "execution_count": 33,
     "metadata": {},
     "output_type": "execute_result"
    }
   ],
   "source": [
    "# pd.plot(traffic_timestamp, traffic_currentTime)\n",
    "pd.to_datetime(traffic_timestamp)"
   ]
  },
  {
   "cell_type": "code",
   "execution_count": null,
   "metadata": {},
   "outputs": [
    {
     "data": {
      "text/plain": [
       "[<matplotlib.lines.Line2D at 0x11758a490>]"
      ]
     },
     "execution_count": 34,
     "metadata": {},
     "output_type": "execute_result"
    }
   ],
   "source": [
    "plt.plot(traffic_timestamp, traffic_currentTime)"
   ]
  },
  {
   "cell_type": "code",
   "execution_count": null,
   "metadata": {},
   "outputs": [],
   "source": []
  },
  {
   "cell_type": "code",
   "execution_count": null,
   "metadata": {},
   "outputs": [],
   "source": []
  },
  {
   "cell_type": "code",
   "execution_count": null,
   "metadata": {},
   "outputs": [],
   "source": []
  }
 ],
 "metadata": {
  "kernelspec": {
   "display_name": "Python 3",
   "language": "python",
   "name": "python3"
  },
  "language_info": {
   "codemirror_mode": {
    "name": "ipython",
    "version": 2
   },
   "file_extension": ".py",
   "mimetype": "text/x-python",
   "name": "python",
   "nbconvert_exporter": "python",
   "pygments_lexer": "ipython2",
   "version": "2.7.16"
  }
 },
 "nbformat": 4,
 "nbformat_minor": 2
}
